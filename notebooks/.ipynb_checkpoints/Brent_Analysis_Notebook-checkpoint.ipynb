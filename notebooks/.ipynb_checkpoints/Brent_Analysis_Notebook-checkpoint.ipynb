{
 "cells": [
  {
   "cell_type": "code",
   "execution_count": 1,
   "id": "1f901721-2581-4f1c-a69e-9f617cf0f31e",
   "metadata": {},
   "outputs": [],
   "source": [
    "# Import modules\n",
    "import sys\n",
    "import os\n",
    "import pandas as pd"
   ]
  },
  {
   "cell_type": "code",
   "execution_count": 2,
   "id": "2b59264b-387d-42ba-9a7a-9850fcf8bf7c",
   "metadata": {},
   "outputs": [],
   "source": [
    "# Append the project root path to sys.path\n",
    "sys.path.append(os.path.abspath(\"../scripts\"))"
   ]
  },
  {
   "cell_type": "code",
   "execution_count": 3,
   "id": "16c8b173-c61b-403d-87f7-be3b9d132fcf",
   "metadata": {},
   "outputs": [],
   "source": [
    "# Import Custom Module\n",
    "import Brent_analysis as ba"
   ]
  },
  {
   "cell_type": "code",
   "execution_count": 4,
   "id": "ff72c866-f08d-4810-891e-d9cd36b24511",
   "metadata": {},
   "outputs": [
    {
     "name": "stderr",
     "output_type": "stream",
     "text": [
      "C:\\Users\\HP\\OneDrive\\Desktop\\ai2\\kaim-week-10\\scripts\\Brent_analysis.py:17: UserWarning: Could not infer format, so each element will be parsed individually, falling back to `dateutil`. To ensure parsing is consistent and as-expected, please specify a format.\n",
      "  df = pd.read_csv(file_path, parse_dates=[\"Date\"], dayfirst=True)\n"
     ]
    },
    {
     "name": "stdout",
     "output_type": "stream",
     "text": [
      "Loaded Sucessfully. \n",
      "\n"
     ]
    },
    {
     "data": {
      "text/html": [
       "<div>\n",
       "<style scoped>\n",
       "    .dataframe tbody tr th:only-of-type {\n",
       "        vertical-align: middle;\n",
       "    }\n",
       "\n",
       "    .dataframe tbody tr th {\n",
       "        vertical-align: top;\n",
       "    }\n",
       "\n",
       "    .dataframe thead th {\n",
       "        text-align: right;\n",
       "    }\n",
       "</style>\n",
       "<table border=\"1\" class=\"dataframe\">\n",
       "  <thead>\n",
       "    <tr style=\"text-align: right;\">\n",
       "      <th></th>\n",
       "      <th>Date</th>\n",
       "      <th>Price</th>\n",
       "    </tr>\n",
       "  </thead>\n",
       "  <tbody>\n",
       "    <tr>\n",
       "      <th>0</th>\n",
       "      <td>1987-05-20</td>\n",
       "      <td>18.63</td>\n",
       "    </tr>\n",
       "    <tr>\n",
       "      <th>1</th>\n",
       "      <td>1987-05-21</td>\n",
       "      <td>18.45</td>\n",
       "    </tr>\n",
       "    <tr>\n",
       "      <th>2</th>\n",
       "      <td>1987-05-22</td>\n",
       "      <td>18.55</td>\n",
       "    </tr>\n",
       "    <tr>\n",
       "      <th>3</th>\n",
       "      <td>1987-05-25</td>\n",
       "      <td>18.60</td>\n",
       "    </tr>\n",
       "    <tr>\n",
       "      <th>4</th>\n",
       "      <td>1987-05-26</td>\n",
       "      <td>18.63</td>\n",
       "    </tr>\n",
       "  </tbody>\n",
       "</table>\n",
       "</div>"
      ],
      "text/plain": [
       "        Date  Price\n",
       "0 1987-05-20  18.63\n",
       "1 1987-05-21  18.45\n",
       "2 1987-05-22  18.55\n",
       "3 1987-05-25  18.60\n",
       "4 1987-05-26  18.63"
      ]
     },
     "execution_count": 4,
     "metadata": {},
     "output_type": "execute_result"
    }
   ],
   "source": [
    "# Load and Clean Data\n",
    "file_path = \"../data/BrentOilPrices.csv\"\n",
    "df_raw = ba.load_data(file_path)\n",
    "df_raw.head()"
   ]
  },
  {
   "cell_type": "code",
   "execution_count": 5,
   "id": "81c6523e-9f78-489b-85e0-97de1e3e985e",
   "metadata": {},
   "outputs": [
    {
     "name": "stdout",
     "output_type": "stream",
     "text": [
      "Cleaned DataFrame\n",
      "\n",
      "Cleaned Data:\n",
      "         Date  Price\n",
      "0 1987-05-20  18.63\n",
      "1 1987-05-21  18.45\n",
      "2 1987-05-22  18.55\n",
      "3 1987-05-25  18.60\n",
      "4 1987-05-26  18.63\n"
     ]
    }
   ],
   "source": [
    "df_cleaned = ba.clean_data(df_raw)\n"
   ]
  },
  {
   "cell_type": "code",
   "execution_count": null,
   "id": "1ae36e7a-733b-41e5-926f-362b75495b70",
   "metadata": {},
   "outputs": [],
   "source": [
    "\n",
    "# Exploratory Data Analysis\n",
    "\n",
    "ba.plot_price_series(df_cleaned)"
   ]
  },
  {
   "cell_type": "code",
   "execution_count": null,
   "id": "c2908953-23ae-4024-830e-52ff0d2127aa",
   "metadata": {},
   "outputs": [],
   "source": [
    "ba.check_stationarity(df_cleaned)"
   ]
  },
  {
   "cell_type": "code",
   "execution_count": null,
   "id": "fb11d563-8aa3-4c32-aea6-532b68612832",
   "metadata": {},
   "outputs": [],
   "source": [
    "\n",
    "# Fit ARIMA Model\n",
    "\n",
    "arima_order = (1,1,1)\n",
    "arima_results = ba.fit_arima_model(df_cleaned, order=arima_order)\n"
   ]
  },
  {
   "cell_type": "code",
   "execution_count": null,
   "id": "74df6b83-1861-4ebe-b860-9de65c7f5c0f",
   "metadata": {},
   "outputs": [],
   "source": [
    "# Print ARIMA Model Summary\n",
    "print(arima_results.summary())"
   ]
  },
  {
   "cell_type": "code",
   "execution_count": null,
   "id": "aea11996-b9a0-4650-a1bd-03339e78e2cf",
   "metadata": {},
   "outputs": [],
   "source": [
    "# Change Point Detection\n",
    "\n",
    "cp_breaks = ba.detect_change_points(df_cleaned, penalty=10.0)\n",
    "print(f\"\\nDetected change points at indices: {cp_breaks}\")"
   ]
  },
  {
   "cell_type": "code",
   "execution_count": null,
   "id": "1aa69932-7eb2-4647-9eac-bad2c54dca27",
   "metadata": {},
   "outputs": [],
   "source": [
    "# Plot Change Points\n",
    "ba.plot_change_points(df_cleaned, cp_breaks)"
   ]
  },
  {
   "cell_type": "code",
   "execution_count": null,
   "id": "84a7b57c-18ef-4d58-93bc-5c16ca96dc28",
   "metadata": {},
   "outputs": [],
   "source": [
    "#ba.save_results_to_csv(df_cleaned, cp_breaks, arima_results)\n"
   ]
  },
  {
   "cell_type": "code",
   "execution_count": null,
   "id": "ae92af90-3b4d-4eb3-b047-6fceb682c300",
   "metadata": {},
   "outputs": [],
   "source": [
    "import pymc as pm  # Updated from pymc3 to pymc\n",
    "import numpy as np\n",
    "import matplotlib.pyplot as plt\n",
    "import arviz as az\n",
    "import pytensor.tensor as at  # Updated tensor operations\n",
    "\n",
    "# Assuming 'data' is a DataFrame with 'Date' as the index and 'Price' as the column\n",
    "mean_price = df['Price'].mean()  # Mean of the Brent oil prices\n",
    "\n",
    "with pm.Model() as model:\n",
    "    # Priors\n",
    "    mean_before = pm.Normal('mean_before', mu=mean_price, sigma=10)\n",
    "    mean_after = pm.Normal('mean_after', mu=mean_price, sigma=10)\n",
    "    \n",
    "    # Uniform prior for the change point\n",
    "    change_point = pm.DiscreteUniform('change_point', lower=0, upper=len(data)-1)\n",
    "\n",
    "    # Likelihood using switch point\n",
    "    mu = pm.math.switch(change_point >= at.arange(len(data)), mean_before, mean_after)\n",
    "    likelihood = pm.Normal('likelihood', mu=mu, sigma=10, observed=data['Price'])\n",
    "\n",
    "    # Inference with NUTS sampler\n",
    "    trace = pm.sample(2000, tune=1000, cores=2, return_inferencedata=True)\n",
    "\n",
    "# Plot results\n",
    "az.plot_posterior(trace, var_names=['mean_before', 'mean_after', 'change_point'])\n",
    "plt.show()\n",
    "\n",
    "# Extract the most likely change point\n",
    "most_likely_change_point = trace.posterior['change_point'].values.mean()\n",
    "print(f\"Most likely change point index: {int(most_likely_change_point)}\")\n",
    "print(f\"Corresponding date: {data.index[int(most_likely_change_point)]}\")\n"
   ]
  },
  {
   "cell_type": "code",
   "execution_count": null,
   "id": "8caa7d81-f6bc-4aab-8e80-fee1727a0d51",
   "metadata": {},
   "outputs": [],
   "source": []
  }
 ],
 "metadata": {
  "kernelspec": {
   "display_name": "Python (venv)",
   "language": "python",
   "name": "venv"
  },
  "language_info": {
   "codemirror_mode": {
    "name": "ipython",
    "version": 3
   },
   "file_extension": ".py",
   "mimetype": "text/x-python",
   "name": "python",
   "nbconvert_exporter": "python",
   "pygments_lexer": "ipython3",
   "version": "3.12.4"
  }
 },
 "nbformat": 4,
 "nbformat_minor": 5
}
