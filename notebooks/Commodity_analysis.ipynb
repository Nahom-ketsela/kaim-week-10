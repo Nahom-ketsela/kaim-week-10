{
 "cells": [
  {
   "cell_type": "code",
   "execution_count": 1,
   "id": "e31fbe13-5d25-44ed-9500-7c98b81fa438",
   "metadata": {},
   "outputs": [],
   "source": [
    "# Import modules\n",
    "import sys\n",
    "import os\n",
    "import pandas as pd"
   ]
  },
  {
   "cell_type": "code",
   "execution_count": 2,
   "id": "0028a223-e097-4a2d-9201-3852dbbc6cca",
   "metadata": {},
   "outputs": [],
   "source": [
    "# Append the project root path to sys.path\n",
    "sys.path.append(os.path.abspath(\"../scripts\"))"
   ]
  },
  {
   "cell_type": "code",
   "execution_count": 3,
   "id": "e0bd9b42-7b1c-475e-9adf-886250b7d213",
   "metadata": {},
   "outputs": [],
   "source": [
    "#  Import Custom Module\n",
    "import comodity_analysis as ca\n"
   ]
  },
  {
   "cell_type": "code",
   "execution_count": 4,
   "id": "5fb9a47f-0b55-4e18-979b-c87433e15362",
   "metadata": {},
   "outputs": [
    {
     "name": "stderr",
     "output_type": "stream",
     "text": [
      "C:\\Users\\HP\\OneDrive\\Desktop\\ai2\\kaim-week-10\\scripts\\comodity_analysis.py:19: UserWarning: Could not infer format, so each element will be parsed individually, falling back to `dateutil`. To ensure parsing is consistent and as-expected, please specify a format.\n",
      "  df = pd.read_csv(file_path, parse_dates=[\"Date\"], dayfirst=True)\n"
     ]
    },
    {
     "name": "stdout",
     "output_type": "stream",
     "text": [
      "Data Loaded Successfully from ../data/BrentOilPrices.csv!\n",
      "\n",
      "GDP Data Expanded to Daily Frequency:\n",
      "              GDP  GDP per Capita  Growth\n",
      "Year                                     \n",
      "1961-01-01  563.3          3067.0     2.3\n",
      "1961-01-02  563.3          3067.0     2.3\n",
      "1961-01-03  563.3          3067.0     2.3\n",
      "1961-01-04  563.3          3067.0     2.3\n",
      "1961-01-05  563.3          3067.0     2.3\n"
     ]
    }
   ],
   "source": [
    "#  Load and Preprocess Data\n",
    "\n",
    "# Load Brent oil price (Daily)\n",
    "oil_df = ca.load_data(\"../data/BrentOilPrices.csv\")\n",
    "\n",
    "# Load GDP data (Annual) and align it with daily oil prices\n",
    "gdp_df = ca.load_gdp_data(\"../data/USA_GDP_Growth.csv\") "
   ]
  },
  {
   "cell_type": "code",
   "execution_count": 5,
   "id": "d57fe041-99fc-49e6-b096-3b84e1fa6a8c",
   "metadata": {},
   "outputs": [
    {
     "data": {
      "text/html": [
       "<div>\n",
       "<style scoped>\n",
       "    .dataframe tbody tr th:only-of-type {\n",
       "        vertical-align: middle;\n",
       "    }\n",
       "\n",
       "    .dataframe tbody tr th {\n",
       "        vertical-align: top;\n",
       "    }\n",
       "\n",
       "    .dataframe thead th {\n",
       "        text-align: right;\n",
       "    }\n",
       "</style>\n",
       "<table border=\"1\" class=\"dataframe\">\n",
       "  <thead>\n",
       "    <tr style=\"text-align: right;\">\n",
       "      <th></th>\n",
       "      <th>Price</th>\n",
       "    </tr>\n",
       "    <tr>\n",
       "      <th>Date</th>\n",
       "      <th></th>\n",
       "    </tr>\n",
       "  </thead>\n",
       "  <tbody>\n",
       "    <tr>\n",
       "      <th>1987-05-20</th>\n",
       "      <td>18.63</td>\n",
       "    </tr>\n",
       "    <tr>\n",
       "      <th>1987-05-21</th>\n",
       "      <td>18.45</td>\n",
       "    </tr>\n",
       "    <tr>\n",
       "      <th>1987-05-22</th>\n",
       "      <td>18.55</td>\n",
       "    </tr>\n",
       "    <tr>\n",
       "      <th>1987-05-25</th>\n",
       "      <td>18.60</td>\n",
       "    </tr>\n",
       "    <tr>\n",
       "      <th>1987-05-26</th>\n",
       "      <td>18.63</td>\n",
       "    </tr>\n",
       "    <tr>\n",
       "      <th>1987-05-27</th>\n",
       "      <td>18.60</td>\n",
       "    </tr>\n",
       "    <tr>\n",
       "      <th>1987-05-28</th>\n",
       "      <td>18.60</td>\n",
       "    </tr>\n",
       "    <tr>\n",
       "      <th>1987-05-29</th>\n",
       "      <td>18.58</td>\n",
       "    </tr>\n",
       "    <tr>\n",
       "      <th>1987-06-01</th>\n",
       "      <td>18.65</td>\n",
       "    </tr>\n",
       "    <tr>\n",
       "      <th>1987-06-02</th>\n",
       "      <td>18.68</td>\n",
       "    </tr>\n",
       "  </tbody>\n",
       "</table>\n",
       "</div>"
      ],
      "text/plain": [
       "            Price\n",
       "Date             \n",
       "1987-05-20  18.63\n",
       "1987-05-21  18.45\n",
       "1987-05-22  18.55\n",
       "1987-05-25  18.60\n",
       "1987-05-26  18.63\n",
       "1987-05-27  18.60\n",
       "1987-05-28  18.60\n",
       "1987-05-29  18.58\n",
       "1987-06-01  18.65\n",
       "1987-06-02  18.68"
      ]
     },
     "execution_count": 5,
     "metadata": {},
     "output_type": "execute_result"
    }
   ],
   "source": [
    "#print oil df\n",
    "oil_df.head(10)"
   ]
  },
  {
   "cell_type": "code",
   "execution_count": 6,
   "id": "6517432e-2712-4ff0-82a3-a111562b0218",
   "metadata": {},
   "outputs": [
    {
     "data": {
      "text/html": [
       "<div>\n",
       "<style scoped>\n",
       "    .dataframe tbody tr th:only-of-type {\n",
       "        vertical-align: middle;\n",
       "    }\n",
       "\n",
       "    .dataframe tbody tr th {\n",
       "        vertical-align: top;\n",
       "    }\n",
       "\n",
       "    .dataframe thead th {\n",
       "        text-align: right;\n",
       "    }\n",
       "</style>\n",
       "<table border=\"1\" class=\"dataframe\">\n",
       "  <thead>\n",
       "    <tr style=\"text-align: right;\">\n",
       "      <th></th>\n",
       "      <th>GDP</th>\n",
       "      <th>GDP per Capita</th>\n",
       "      <th>Growth</th>\n",
       "    </tr>\n",
       "    <tr>\n",
       "      <th>Year</th>\n",
       "      <th></th>\n",
       "      <th></th>\n",
       "      <th></th>\n",
       "    </tr>\n",
       "  </thead>\n",
       "  <tbody>\n",
       "    <tr>\n",
       "      <th>1961-01-01</th>\n",
       "      <td>563.3</td>\n",
       "      <td>3067.0</td>\n",
       "      <td>2.3</td>\n",
       "    </tr>\n",
       "    <tr>\n",
       "      <th>1961-01-02</th>\n",
       "      <td>563.3</td>\n",
       "      <td>3067.0</td>\n",
       "      <td>2.3</td>\n",
       "    </tr>\n",
       "    <tr>\n",
       "      <th>1961-01-03</th>\n",
       "      <td>563.3</td>\n",
       "      <td>3067.0</td>\n",
       "      <td>2.3</td>\n",
       "    </tr>\n",
       "    <tr>\n",
       "      <th>1961-01-04</th>\n",
       "      <td>563.3</td>\n",
       "      <td>3067.0</td>\n",
       "      <td>2.3</td>\n",
       "    </tr>\n",
       "    <tr>\n",
       "      <th>1961-01-05</th>\n",
       "      <td>563.3</td>\n",
       "      <td>3067.0</td>\n",
       "      <td>2.3</td>\n",
       "    </tr>\n",
       "    <tr>\n",
       "      <th>1961-01-06</th>\n",
       "      <td>563.3</td>\n",
       "      <td>3067.0</td>\n",
       "      <td>2.3</td>\n",
       "    </tr>\n",
       "    <tr>\n",
       "      <th>1961-01-07</th>\n",
       "      <td>563.3</td>\n",
       "      <td>3067.0</td>\n",
       "      <td>2.3</td>\n",
       "    </tr>\n",
       "    <tr>\n",
       "      <th>1961-01-08</th>\n",
       "      <td>563.3</td>\n",
       "      <td>3067.0</td>\n",
       "      <td>2.3</td>\n",
       "    </tr>\n",
       "    <tr>\n",
       "      <th>1961-01-09</th>\n",
       "      <td>563.3</td>\n",
       "      <td>3067.0</td>\n",
       "      <td>2.3</td>\n",
       "    </tr>\n",
       "    <tr>\n",
       "      <th>1961-01-10</th>\n",
       "      <td>563.3</td>\n",
       "      <td>3067.0</td>\n",
       "      <td>2.3</td>\n",
       "    </tr>\n",
       "  </tbody>\n",
       "</table>\n",
       "</div>"
      ],
      "text/plain": [
       "              GDP  GDP per Capita  Growth\n",
       "Year                                     \n",
       "1961-01-01  563.3          3067.0     2.3\n",
       "1961-01-02  563.3          3067.0     2.3\n",
       "1961-01-03  563.3          3067.0     2.3\n",
       "1961-01-04  563.3          3067.0     2.3\n",
       "1961-01-05  563.3          3067.0     2.3\n",
       "1961-01-06  563.3          3067.0     2.3\n",
       "1961-01-07  563.3          3067.0     2.3\n",
       "1961-01-08  563.3          3067.0     2.3\n",
       "1961-01-09  563.3          3067.0     2.3\n",
       "1961-01-10  563.3          3067.0     2.3"
      ]
     },
     "execution_count": 6,
     "metadata": {},
     "output_type": "execute_result"
    }
   ],
   "source": [
    "# print gdp df\n",
    "gdp_df.head(10)"
   ]
  },
  {
   "cell_type": "code",
   "execution_count": 7,
   "id": "bbb2a421-17c3-46b7-a668-8082afdca45a",
   "metadata": {},
   "outputs": [
    {
     "name": "stdout",
     "output_type": "stream",
     "text": [
      "\n",
      "Merged dataset preview:\n",
      "            Price      GDP  GDP per Capita  Growth\n",
      "Date                                              \n",
      "1987-05-20  18.63  4855.22         20039.0    3.46\n",
      "1987-05-21  18.45  4855.22         20039.0    3.46\n",
      "1987-05-22  18.55  4855.22         20039.0    3.46\n",
      "1987-05-25  18.60  4855.22         20039.0    3.46\n",
      "1987-05-26  18.63  4855.22         20039.0    3.46\n"
     ]
    }
   ],
   "source": [
    "# merge the two datasets\n",
    "merged_df = ca.merge_oil_gdp(oil_df, gdp_df)"
   ]
  },
  {
   "cell_type": "code",
   "execution_count": 8,
   "id": "80c426f3-620e-43db-b01a-c8a2970f9552",
   "metadata": {},
   "outputs": [
    {
     "data": {
      "text/html": [
       "<div>\n",
       "<style scoped>\n",
       "    .dataframe tbody tr th:only-of-type {\n",
       "        vertical-align: middle;\n",
       "    }\n",
       "\n",
       "    .dataframe tbody tr th {\n",
       "        vertical-align: top;\n",
       "    }\n",
       "\n",
       "    .dataframe thead th {\n",
       "        text-align: right;\n",
       "    }\n",
       "</style>\n",
       "<table border=\"1\" class=\"dataframe\">\n",
       "  <thead>\n",
       "    <tr style=\"text-align: right;\">\n",
       "      <th></th>\n",
       "      <th>Price</th>\n",
       "      <th>GDP</th>\n",
       "      <th>GDP per Capita</th>\n",
       "      <th>Growth</th>\n",
       "    </tr>\n",
       "    <tr>\n",
       "      <th>Date</th>\n",
       "      <th></th>\n",
       "      <th></th>\n",
       "      <th></th>\n",
       "      <th></th>\n",
       "    </tr>\n",
       "  </thead>\n",
       "  <tbody>\n",
       "    <tr>\n",
       "      <th>1987-05-20</th>\n",
       "      <td>18.63</td>\n",
       "      <td>4855.22</td>\n",
       "      <td>20039.0</td>\n",
       "      <td>3.46</td>\n",
       "    </tr>\n",
       "    <tr>\n",
       "      <th>1987-05-21</th>\n",
       "      <td>18.45</td>\n",
       "      <td>4855.22</td>\n",
       "      <td>20039.0</td>\n",
       "      <td>3.46</td>\n",
       "    </tr>\n",
       "    <tr>\n",
       "      <th>1987-05-22</th>\n",
       "      <td>18.55</td>\n",
       "      <td>4855.22</td>\n",
       "      <td>20039.0</td>\n",
       "      <td>3.46</td>\n",
       "    </tr>\n",
       "    <tr>\n",
       "      <th>1987-05-25</th>\n",
       "      <td>18.60</td>\n",
       "      <td>4855.22</td>\n",
       "      <td>20039.0</td>\n",
       "      <td>3.46</td>\n",
       "    </tr>\n",
       "    <tr>\n",
       "      <th>1987-05-26</th>\n",
       "      <td>18.63</td>\n",
       "      <td>4855.22</td>\n",
       "      <td>20039.0</td>\n",
       "      <td>3.46</td>\n",
       "    </tr>\n",
       "    <tr>\n",
       "      <th>1987-05-27</th>\n",
       "      <td>18.60</td>\n",
       "      <td>4855.22</td>\n",
       "      <td>20039.0</td>\n",
       "      <td>3.46</td>\n",
       "    </tr>\n",
       "    <tr>\n",
       "      <th>1987-05-28</th>\n",
       "      <td>18.60</td>\n",
       "      <td>4855.22</td>\n",
       "      <td>20039.0</td>\n",
       "      <td>3.46</td>\n",
       "    </tr>\n",
       "    <tr>\n",
       "      <th>1987-05-29</th>\n",
       "      <td>18.58</td>\n",
       "      <td>4855.22</td>\n",
       "      <td>20039.0</td>\n",
       "      <td>3.46</td>\n",
       "    </tr>\n",
       "    <tr>\n",
       "      <th>1987-06-01</th>\n",
       "      <td>18.65</td>\n",
       "      <td>4855.22</td>\n",
       "      <td>20039.0</td>\n",
       "      <td>3.46</td>\n",
       "    </tr>\n",
       "    <tr>\n",
       "      <th>1987-06-02</th>\n",
       "      <td>18.68</td>\n",
       "      <td>4855.22</td>\n",
       "      <td>20039.0</td>\n",
       "      <td>3.46</td>\n",
       "    </tr>\n",
       "    <tr>\n",
       "      <th>1987-06-03</th>\n",
       "      <td>18.75</td>\n",
       "      <td>4855.22</td>\n",
       "      <td>20039.0</td>\n",
       "      <td>3.46</td>\n",
       "    </tr>\n",
       "    <tr>\n",
       "      <th>1987-06-04</th>\n",
       "      <td>18.78</td>\n",
       "      <td>4855.22</td>\n",
       "      <td>20039.0</td>\n",
       "      <td>3.46</td>\n",
       "    </tr>\n",
       "    <tr>\n",
       "      <th>1987-06-05</th>\n",
       "      <td>18.65</td>\n",
       "      <td>4855.22</td>\n",
       "      <td>20039.0</td>\n",
       "      <td>3.46</td>\n",
       "    </tr>\n",
       "    <tr>\n",
       "      <th>1987-06-08</th>\n",
       "      <td>18.75</td>\n",
       "      <td>4855.22</td>\n",
       "      <td>20039.0</td>\n",
       "      <td>3.46</td>\n",
       "    </tr>\n",
       "    <tr>\n",
       "      <th>1987-06-09</th>\n",
       "      <td>18.78</td>\n",
       "      <td>4855.22</td>\n",
       "      <td>20039.0</td>\n",
       "      <td>3.46</td>\n",
       "    </tr>\n",
       "  </tbody>\n",
       "</table>\n",
       "</div>"
      ],
      "text/plain": [
       "            Price      GDP  GDP per Capita  Growth\n",
       "Date                                              \n",
       "1987-05-20  18.63  4855.22         20039.0    3.46\n",
       "1987-05-21  18.45  4855.22         20039.0    3.46\n",
       "1987-05-22  18.55  4855.22         20039.0    3.46\n",
       "1987-05-25  18.60  4855.22         20039.0    3.46\n",
       "1987-05-26  18.63  4855.22         20039.0    3.46\n",
       "1987-05-27  18.60  4855.22         20039.0    3.46\n",
       "1987-05-28  18.60  4855.22         20039.0    3.46\n",
       "1987-05-29  18.58  4855.22         20039.0    3.46\n",
       "1987-06-01  18.65  4855.22         20039.0    3.46\n",
       "1987-06-02  18.68  4855.22         20039.0    3.46\n",
       "1987-06-03  18.75  4855.22         20039.0    3.46\n",
       "1987-06-04  18.78  4855.22         20039.0    3.46\n",
       "1987-06-05  18.65  4855.22         20039.0    3.46\n",
       "1987-06-08  18.75  4855.22         20039.0    3.46\n",
       "1987-06-09  18.78  4855.22         20039.0    3.46"
      ]
     },
     "execution_count": 8,
     "metadata": {},
     "output_type": "execute_result"
    }
   ],
   "source": [
    "merged_df.head(15)"
   ]
  },
  {
   "cell_type": "code",
   "execution_count": 9,
   "id": "55c1cdb9-2a97-45e9-85e9-080bd20c9595",
   "metadata": {},
   "outputs": [
    {
     "data": {
      "image/png": "[encoded data removed]",
      "text/plain": [
       "<Figure size 1200x500 with 1 Axes>"
      ]
     },
     "metadata": {},
     "output_type": "display_data"
    },
    {
     "data": {
      "image/png": "[encoded data removed]",
      "text/plain": [
       "<Figure size 800x500 with 2 Axes>"
      ]
     },
     "metadata": {},
     "output_type": "display_data"
    }
   ],
   "source": [
    "#  Exploratory Data Analysis (EDA)\n",
    "\n",
    "# visualization of the merged dataset and corelation of different attributes \n",
    "ca.visualize_data(merged_df, \"Brent Oil Prices and U.S. GDP Over Time\")\n",
    "ca.correlation_analysis(merged_df)\n"
   ]
  },
  {
   "cell_type": "code",
   "execution_count": 10,
   "id": "cfb857af-640b-4abc-bbca-dc89d213159a",
   "metadata": {},
   "outputs": [
    {
     "name": "stdout",
     "output_type": "stream",
     "text": [
      "ADF Statistic for Price: -1.9938560113924664\n",
      "p-value: 0.2892735048934034\n",
      "ADF Statistic for GDP: 1.447964007242011\n",
      "p-value: 0.9973215049215719\n",
      "ADF Statistic for GDP per Capita: 1.092911008269418\n",
      "p-value: 0.9951556645037245\n",
      "ADF Statistic for Growth: -3.9976947462612547\n",
      "p-value: 0.0014226304576814423\n"
     ]
    }
   ],
   "source": [
    "# Check stationarity\n",
    "for col in merged_df.columns:\n",
    "    ca.check_stationarity(merged_df, col)\n"
   ]
  },
  {
   "cell_type": "code",
   "execution_count": 11,
   "id": "2b9caa2a-366e-46f8-8f9f-97b2d5ae1656",
   "metadata": {},
   "outputs": [
    {
     "name": "stdout",
     "output_type": "stream",
     "text": [
      "Empty DataFrame\n",
      "Columns: [Price, GDP, GDP per Capita, Growth]\n",
      "Index: []\n"
     ]
    }
   ],
   "source": [
    "print(merged_df[merged_df['GDP'].isna()])\n"
   ]
  },
  {
   "cell_type": "code",
   "execution_count": 12,
   "id": "4914eb82-1047-495d-bb7d-743c8d3feba6",
   "metadata": {},
   "outputs": [
    {
     "name": "stdout",
     "output_type": "stream",
     "text": [
      "  Summary of Regression Results   \n",
      "==================================\n",
      "Model:                         VAR\n",
      "Method:                        OLS\n",
      "Date:           Tue, 25, Feb, 2025\n",
      "Time:                     18:41:53\n",
      "--------------------------------------------------------------------\n",
      "No. of Equations:         4.00000    BIC:                    9.44298\n",
      "Nobs:                     9006.00    HQIC:                   9.39925\n",
      "Log likelihood:          -93255.1    FPE:                    11810.0\n",
      "AIC:                      9.37670    Det(Omega_mle):         11700.5\n",
      "--------------------------------------------------------------------\n",
      "Results for equation Price\n",
      "====================================================================================\n",
      "                       coefficient       std. error           t-stat            prob\n",
      "------------------------------------------------------------------------------------\n",
      "const                    -0.253298         0.203607           -1.244           0.213\n",
      "L1.Price                  1.024850         0.010557           97.075           0.000\n",
      "L1.GDP                    0.001117         0.003004            0.372           0.710\n",
      "L1.GDP per Capita        -0.000356         0.001109           -0.321           0.748\n",
      "L1.Growth                 0.150747         0.113118            1.333           0.183\n",
      "L2.Price                 -0.049858         0.015123           -3.297           0.001\n",
      "L2.GDP                    0.002375         0.004244            0.560           0.576\n",
      "L2.GDP per Capita        -0.000807         0.001566           -0.515           0.606\n",
      "L2.Growth                -0.154450         0.159716           -0.967           0.334\n",
      "L3.Price                  0.016835         0.015130            1.113           0.266\n",
      "L3.GDP                   -0.005810         0.004243           -1.369           0.171\n",
      "L3.GDP per Capita         0.002066         0.001566            1.320           0.187\n",
      "L3.Growth                -0.091790         0.159721           -0.575           0.566\n",
      "L4.Price                  0.027724         0.015131            1.832           0.067\n",
      "L4.GDP                   -0.002071         0.004244           -0.488           0.626\n",
      "L4.GDP per Capita         0.000750         0.001566            0.479           0.632\n",
      "L4.Growth                 0.110610         0.159724            0.693           0.489\n",
      "L5.Price                 -0.021190         0.010564           -2.006           0.045\n",
      "L5.GDP                    0.004324         0.003004            1.439           0.150\n",
      "L5.GDP per Capita        -0.001626         0.001108           -1.467           0.142\n",
      "L5.Growth                -0.012983         0.112981           -0.115           0.909\n",
      "====================================================================================\n",
      "\n",
      "Results for equation GDP\n",
      "====================================================================================\n",
      "                       coefficient       std. error           t-stat            prob\n",
      "------------------------------------------------------------------------------------\n",
      "const                     5.606509         8.666244            0.647           0.518\n",
      "L1.Price                 -0.263827         0.449355           -0.587           0.557\n",
      "L1.GDP                    0.996792         0.127874            7.795           0.000\n",
      "L1.GDP per Capita         0.000299         0.047185            0.006           0.995\n",
      "L1.Growth                 0.124472         4.814704            0.026           0.979\n",
      "L2.Price                  0.231015         0.643701            0.359           0.720\n",
      "L2.GDP                   -0.001843         0.180622           -0.010           0.992\n",
      "L2.GDP per Capita         0.000674         0.066650            0.010           0.992\n",
      "L2.Growth                 0.054282         6.798085            0.008           0.994\n",
      "L3.Price                  0.685149         0.644006            1.064           0.287\n",
      "L3.GDP                   -0.006763         0.180614           -0.037           0.970\n",
      "L3.GDP per Capita         0.002342         0.066648            0.035           0.972\n",
      "L3.Growth                -0.037152         6.798310           -0.005           0.996\n",
      "L4.Price                 -0.754924         0.644014           -1.172           0.241\n",
      "L4.GDP                    0.004596         0.180633            0.025           0.980\n",
      "L4.GDP per Capita        -0.001617         0.066654           -0.024           0.981\n",
      "L4.Growth                -0.113685         6.798432           -0.017           0.987\n",
      "L5.Price                  0.090954         0.449639            0.202           0.840\n",
      "L5.GDP                    0.009232         0.127861            0.072           0.942\n",
      "L5.GDP per Capita        -0.002377         0.047179           -0.050           0.960\n",
      "L5.Growth                 0.129513         4.808871            0.027           0.979\n",
      "====================================================================================\n",
      "\n",
      "Results for equation GDP per Capita\n",
      "====================================================================================\n",
      "                       coefficient       std. error           t-stat            prob\n",
      "------------------------------------------------------------------------------------\n",
      "const                    21.462557        23.914080            0.897           0.369\n",
      "L1.Price                 -0.629609         1.239973           -0.508           0.612\n",
      "L1.GDP                   -0.005392         0.352862           -0.015           0.988\n",
      "L1.GDP per Capita         0.999629         0.130205            7.677           0.000\n",
      "L1.Growth                 0.367649        13.285943            0.028           0.978\n",
      "L2.Price                  0.651105         1.776262            0.367           0.714\n",
      "L2.GDP                   -0.005190         0.498418           -0.010           0.992\n",
      "L2.GDP per Capita         0.001888         0.183918            0.010           0.992\n",
      "L2.Growth                 0.124592        18.758986            0.007           0.995\n",
      "L3.Price                  1.544760         1.777102            0.869           0.385\n",
      "L3.GDP                   -0.015465         0.498396           -0.031           0.975\n",
      "L3.GDP per Capita         0.005351         0.183911            0.029           0.977\n",
      "L3.Growth                -0.100210        18.759609           -0.005           0.996\n",
      "L4.Price                 -1.755569         1.777125           -0.988           0.323\n",
      "L4.GDP                    0.010262         0.498447            0.021           0.984\n",
      "L4.GDP per Capita        -0.003617         0.183929           -0.020           0.984\n",
      "L4.Growth                -0.257589        18.759944           -0.014           0.989\n",
      "L5.Price                  0.158781         1.240758            0.128           0.898\n",
      "L5.GDP                    0.022742         0.352826            0.064           0.949\n",
      "L5.GDP per Capita        -0.005688         0.130189           -0.044           0.965\n",
      "L5.Growth                 0.235719        13.269846            0.018           0.986\n",
      "====================================================================================\n",
      "\n",
      "Results for equation Growth\n",
      "====================================================================================\n",
      "                       coefficient       std. error           t-stat            prob\n",
      "------------------------------------------------------------------------------------\n",
      "const                     0.040834         0.025573            1.597           0.110\n",
      "L1.Price                  0.000606         0.001326            0.457           0.647\n",
      "L1.GDP                   -0.000041         0.000377           -0.109           0.913\n",
      "L1.GDP per Capita         0.000016         0.000139            0.113           0.910\n",
      "L1.Growth                 0.996996         0.014208           70.173           0.000\n",
      "L2.Price                  0.000462         0.001899            0.243           0.808\n",
      "L2.GDP                   -0.000002         0.000533           -0.004           0.997\n",
      "L2.GDP per Capita         0.000001         0.000197            0.004           0.997\n",
      "L2.Growth                -0.000204         0.020060           -0.010           0.992\n",
      "L3.Price                 -0.002492         0.001900           -1.311           0.190\n",
      "L3.GDP                    0.000023         0.000533            0.042           0.966\n",
      "L3.GDP per Capita        -0.000008         0.000197           -0.040           0.968\n",
      "L3.Growth                -0.000023         0.020061           -0.001           0.999\n",
      "L4.Price                  0.002537         0.001900            1.335           0.182\n",
      "L4.GDP                   -0.000021         0.000533           -0.040           0.968\n",
      "L4.GDP per Capita         0.000007         0.000197            0.038           0.970\n",
      "L4.Growth                 0.000400         0.020061            0.020           0.984\n",
      "L5.Price                 -0.001134         0.001327           -0.855           0.393\n",
      "L5.GDP                    0.000050         0.000377            0.133           0.894\n",
      "L5.GDP per Capita        -0.000019         0.000139           -0.138           0.891\n",
      "L5.Growth                -0.000939         0.014190           -0.066           0.947\n",
      "====================================================================================\n",
      "\n",
      "Correlation matrix of residuals\n",
      "                     Price       GDP  GDP per Capita    Growth\n",
      "Price             1.000000  0.016858        0.012702 -0.018869\n",
      "GDP               0.016858  1.000000        0.994322  0.223467\n",
      "GDP per Capita    0.012702  0.994322        1.000000  0.289390\n",
      "Growth           -0.018869  0.223467        0.289390  1.000000\n",
      "\n",
      "\n",
      "\n"
     ]
    },
    {
     "name": "stderr",
     "output_type": "stream",
     "text": [
      "C:\\Users\\HP\\OneDrive\\Desktop\\KAIM\\kaim-week-02\\venv\\Lib\\site-packages\\statsmodels\\tsa\\base\\tsa_model.py:473: ValueWarning: A date index has been provided, but it has no associated frequency information and so will be ignored when e.g. forecasting.\n",
      "  self._init_dates(dates, freq)\n"
     ]
    }
   ],
   "source": [
    "# Train VAR Model (GDP + Oil Price)\n",
    "\n",
    "var_model = ca.fit_var_model(merged_df)\n"
   ]
  },
  {
   "cell_type": "code",
   "execution_count": 13,
   "id": "2f7a001e-9b70-45a6-a60e-3aca171598f1",
   "metadata": {},
   "outputs": [
    {
     "name": "stderr",
     "output_type": "stream",
     "text": [
      "C:\\Users\\HP\\OneDrive\\Desktop\\KAIM\\kaim-week-02\\venv\\Lib\\site-packages\\statsmodels\\tsa\\base\\tsa_model.py:473: ValueWarning: A date index has been provided, but it has no associated frequency information and so will be ignored when e.g. forecasting.\n",
      "  self._init_dates(dates, freq)\n"
     ]
    },
    {
     "name": "stdout",
     "output_type": "stream",
     "text": [
      "                        Markov Switching Model Results                        \n",
      "==============================================================================\n",
      "Dep. Variable:                  Price   No. Observations:                 9011\n",
      "Model:               MarkovRegression   Log Likelihood              -35281.967\n",
      "Date:                Tue, 25 Feb 2025   AIC                          70575.934\n",
      "Time:                        18:42:03   BIC                          70618.571\n",
      "Sample:                             0   HQIC                         70590.441\n",
      "                               - 9011                                         \n",
      "Covariance Type:               approx                                         \n",
      "                             Regime 0 parameters                              \n",
      "==============================================================================\n",
      "                 coef    std err          z      P>|z|      [0.025      0.975]\n",
      "------------------------------------------------------------------------------\n",
      "const         20.0441      0.088    227.669      0.000      19.872      20.217\n",
      "sigma2        26.3180      0.704     37.394      0.000      24.939      27.697\n",
      "                             Regime 1 parameters                              \n",
      "==============================================================================\n",
      "                 coef    std err          z      P>|z|      [0.025      0.975]\n",
      "------------------------------------------------------------------------------\n",
      "const         73.6469      0.391    188.494      0.000      72.881      74.413\n",
      "sigma2       663.8057     13.902     47.750      0.000     636.559     691.052\n",
      "                         Regime transition parameters                         \n",
      "==============================================================================\n",
      "                 coef    std err          z      P>|z|      [0.025      0.975]\n",
      "------------------------------------------------------------------------------\n",
      "p[0->0]        0.9987      0.001   1830.927      0.000       0.998       1.000\n",
      "p[1->0]        0.0012      0.000      2.400      0.016       0.000       0.002\n",
      "==============================================================================\n",
      "\n",
      "Warnings:\n",
      "[1] Covariance matrix calculated using numerical (complex-step) differentiation.\n"
     ]
    }
   ],
   "source": [
    "#  Train Markov-Switching ARIMA Model (Oil Prices)\n",
    "\n",
    "markov_model = ca.fit_markov_switching(merged_df[\"Price\"])\n"
   ]
  },
  {
   "cell_type": "code",
   "execution_count": 14,
   "id": "60af468f-58f5-48a4-a31f-dbdf62b5de0e",
   "metadata": {},
   "outputs": [
    {
     "name": "stderr",
     "output_type": "stream",
     "text": [
      "C:\\Users\\HP\\OneDrive\\Desktop\\KAIM\\kaim-week-02\\venv\\Lib\\site-packages\\keras\\src\\layers\\rnn\\rnn.py:200: UserWarning: Do not pass an `input_shape`/`input_dim` argument to a layer. When using Sequential models, prefer using an `Input(shape)` object as the first layer in the model instead.\n",
      "  super().__init__(**kwargs)\n"
     ]
    },
    {
     "name": "stdout",
     "output_type": "stream",
     "text": [
      "Epoch 1/20\n",
      "\u001b[1m560/560\u001b[0m \u001b[32m━━━━━━━━━━━━━━━━━━━━\u001b[0m\u001b[37m\u001b[0m \u001b[1m34s\u001b[0m 48ms/step - loss: 0.0263\n",
      "Epoch 2/20\n",
      "\u001b[1m560/560\u001b[0m \u001b[32m━━━━━━━━━━━━━━━━━━━━\u001b[0m\u001b[37m\u001b[0m \u001b[1m35s\u001b[0m 63ms/step - loss: 0.0115\n",
      "Epoch 3/20\n",
      "\u001b[1m560/560\u001b[0m \u001b[32m━━━━━━━━━━━━━━━━━━━━\u001b[0m\u001b[37m\u001b[0m \u001b[1m43s\u001b[0m 66ms/step - loss: 0.0117  \n",
      "Epoch 4/20\n",
      "\u001b[1m560/560\u001b[0m \u001b[32m━━━━━━━━━━━━━━━━━━━━\u001b[0m\u001b[37m\u001b[0m \u001b[1m39s\u001b[0m 61ms/step - loss: 0.0117 \n",
      "Epoch 5/20\n",
      "\u001b[1m560/560\u001b[0m \u001b[32m━━━━━━━━━━━━━━━━━━━━\u001b[0m\u001b[37m\u001b[0m \u001b[1m28s\u001b[0m 50ms/step - loss: 0.0116\n",
      "Epoch 6/20\n",
      "\u001b[1m560/560\u001b[0m \u001b[32m━━━━━━━━━━━━━━━━━━━━\u001b[0m\u001b[37m\u001b[0m \u001b[1m43s\u001b[0m 53ms/step - loss: 0.0118\n",
      "Epoch 7/20\n",
      "\u001b[1m560/560\u001b[0m \u001b[32m━━━━━━━━━━━━━━━━━━━━\u001b[0m\u001b[37m\u001b[0m \u001b[1m46s\u001b[0m 61ms/step - loss: 0.0120 \n",
      "Epoch 8/20\n",
      "\u001b[1m560/560\u001b[0m \u001b[32m━━━━━━━━━━━━━━━━━━━━\u001b[0m\u001b[37m\u001b[0m \u001b[1m35s\u001b[0m 50ms/step - loss: 0.0117\n",
      "Epoch 9/20\n",
      "\u001b[1m560/560\u001b[0m \u001b[32m━━━━━━━━━━━━━━━━━━━━\u001b[0m\u001b[37m\u001b[0m \u001b[1m54s\u001b[0m 74ms/step - loss: 0.0118  \n",
      "Epoch 10/20\n",
      "\u001b[1m560/560\u001b[0m \u001b[32m━━━━━━━━━━━━━━━━━━━━\u001b[0m\u001b[37m\u001b[0m \u001b[1m123s\u001b[0m 147ms/step - loss: 0.0114\n",
      "Epoch 11/20\n",
      "\u001b[1m560/560\u001b[0m \u001b[32m━━━━━━━━━━━━━━━━━━━━\u001b[0m\u001b[37m\u001b[0m \u001b[1m44s\u001b[0m 78ms/step - loss: 0.0115  \n",
      "Epoch 12/20\n",
      "\u001b[1m560/560\u001b[0m \u001b[32m━━━━━━━━━━━━━━━━━━━━\u001b[0m\u001b[37m\u001b[0m \u001b[1m32s\u001b[0m 57ms/step - loss: 0.0113\n",
      "Epoch 13/20\n",
      "\u001b[1m560/560\u001b[0m \u001b[32m━━━━━━━━━━━━━━━━━━━━\u001b[0m\u001b[37m\u001b[0m \u001b[1m42s\u001b[0m 58ms/step - loss: 0.0115  \n",
      "Epoch 14/20\n",
      "\u001b[1m560/560\u001b[0m \u001b[32m━━━━━━━━━━━━━━━━━━━━\u001b[0m\u001b[37m\u001b[0m \u001b[1m44s\u001b[0m 62ms/step - loss: 0.0117  \n",
      "Epoch 15/20\n",
      "\u001b[1m560/560\u001b[0m \u001b[32m━━━━━━━━━━━━━━━━━━━━\u001b[0m\u001b[37m\u001b[0m \u001b[1m34s\u001b[0m 61ms/step - loss: 0.0116 \n",
      "Epoch 16/20\n",
      "\u001b[1m560/560\u001b[0m \u001b[32m━━━━━━━━━━━━━━━━━━━━\u001b[0m\u001b[37m\u001b[0m \u001b[1m51s\u001b[0m 74ms/step - loss: 0.0114  \n",
      "Epoch 17/20\n",
      "\u001b[1m560/560\u001b[0m \u001b[32m━━━━━━━━━━━━━━━━━━━━\u001b[0m\u001b[37m\u001b[0m \u001b[1m42s\u001b[0m 74ms/step - loss: 0.0114\n",
      "Epoch 18/20\n",
      "\u001b[1m560/560\u001b[0m \u001b[32m━━━━━━━━━━━━━━━━━━━━\u001b[0m\u001b[37m\u001b[0m \u001b[1m69s\u001b[0m 50ms/step - loss: 0.0111\n",
      "Epoch 19/20\n",
      "\u001b[1m560/560\u001b[0m \u001b[32m━━━━━━━━━━━━━━━━━━━━\u001b[0m\u001b[37m\u001b[0m \u001b[1m50s\u001b[0m 65ms/step - loss: 0.0114\n",
      "Epoch 20/20\n",
      "\u001b[1m560/560\u001b[0m \u001b[32m━━━━━━━━━━━━━━━━━━━━\u001b[0m\u001b[37m\u001b[0m \u001b[1m32s\u001b[0m 58ms/step - loss: 0.0116\n"
     ]
    }
   ],
   "source": [
    "# Train LSTM Model (Forecasting)\n",
    "\n",
    "lstm_model, scaler = ca.train_lstm(merged_df[[\"Price\", \"GDP\"]])\n"
   ]
  },
  {
   "cell_type": "code",
   "execution_count": 15,
   "id": "9f7aabf7-392a-43a5-8330-216ccdc87713",
   "metadata": {},
   "outputs": [
    {
     "data": {
      "text/plain": [
       "['lstm_scaler.pkl']"
      ]
     },
     "execution_count": 15,
     "metadata": {},
     "output_type": "execute_result"
    }
   ],
   "source": [
    "from tensorflow.keras.models import load_model\n",
    "import joblib\n",
    "\n",
    "# Save the trained model \n",
    "lstm_model.save(\"lstm_price_forecasting.keras\")  \n",
    "\n",
    "# Save the scaler\n",
    "joblib.dump(scaler, \"lstm_scaler.pkl\")\n"
   ]
  },
  {
   "cell_type": "code",
   "execution_count": 16,
   "id": "a7f31c47-9758-4b6f-8e0b-42c132a5bda6",
   "metadata": {},
   "outputs": [
    {
     "data": {
      "image/png": "[encoded data removed]",
      "text/plain": [
       "<Figure size 640x480 with 1 Axes>"
      ]
     },
     "metadata": {},
     "output_type": "display_data"
    },
    {
     "ename": "ValueError",
     "evalue": "too many values to unpack (expected 2)",
     "output_type": "error",
     "traceback": [
      "\u001b[1;31m---------------------------------------------------------------------------\u001b[0m",
      "\u001b[1;31mValueError\u001b[0m                                Traceback (most recent call last)",
      "Cell \u001b[1;32mIn[16], line 2\u001b[0m\n\u001b[0;32m      1\u001b[0m \u001b[38;5;66;03m# Call backtest with verbose logging off\u001b[39;00m\n\u001b[1;32m----> 2\u001b[0m y_actual, y_pred \u001b[38;5;241m=\u001b[39m ca\u001b[38;5;241m.\u001b[39mbacktest_lstm(lstm_model, merged_df[[\u001b[38;5;124m\"\u001b[39m\u001b[38;5;124mPrice\u001b[39m\u001b[38;5;124m\"\u001b[39m, \u001b[38;5;124m\"\u001b[39m\u001b[38;5;124mGDP\u001b[39m\u001b[38;5;124m\"\u001b[39m]], scaler)\n",
      "\u001b[1;31mValueError\u001b[0m: too many values to unpack (expected 2)"
     ]
    }
   ],
   "source": [
    "# Call backtest with verbose logging off\n",
    "y_actual, y_pred = ca.backtest_lstm(lstm_model, merged_df[[\"Price\", \"GDP\"]], scaler)\n"
   ]
  },
  {
   "cell_type": "code",
   "execution_count": null,
   "id": "f0bb1898-1fe0-477f-b973-da6eae40f62e",
   "metadata": {},
   "outputs": [],
   "source": [
    "ca.save_results_to_csv()"
   ]
  }
 ],
 "metadata": {
  "kernelspec": {
   "display_name": "Python (venv)",
   "language": "python",
   "name": "venv"
  },
  "language_info": {
   "codemirror_mode": {
    "name": "ipython",
    "version": 3
   },
   "file_extension": ".py",
   "mimetype": "text/x-python",
   "name": "python",
   "nbconvert_exporter": "python",
   "pygments_lexer": "ipython3",
   "version": "3.12.4"
  }
 },
 "nbformat": 4,
 "nbformat_minor": 5
}
