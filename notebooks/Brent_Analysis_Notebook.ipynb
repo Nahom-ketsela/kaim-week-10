{
 "cells": [
  {
   "cell_type": "code",
   "execution_count": 1,
   "id": "1f901721-2581-4f1c-a69e-9f617cf0f31e",
   "metadata": {},
   "outputs": [],
   "source": [
    "# Import modules\n",
    "import sys\n",
    "import os\n",
    "import pandas as pd"
   ]
  },
  {
   "cell_type": "code",
   "execution_count": 2,
   "id": "2b59264b-387d-42ba-9a7a-9850fcf8bf7c",
   "metadata": {},
   "outputs": [],
   "source": [
    "# Append the project root path to sys.path\n",
    "sys.path.append(os.path.abspath(\"../scripts\"))"
   ]
  },
  {
   "cell_type": "code",
   "execution_count": null,
   "id": "16c8b173-c61b-403d-87f7-be3b9d132fcf",
   "metadata": {},
   "outputs": [],
   "source": [
    "# Import Custom Module\n",
    "import Brent_analysis as ba"
   ]
  },
  {
   "cell_type": "code",
   "execution_count": null,
   "id": "ff72c866-f08d-4810-891e-d9cd36b24511",
   "metadata": {},
   "outputs": [],
   "source": [
    "# Load and Clean Data\n",
    "file_path = \"../data/BrentOilPrices.csv\"\n",
    "df_raw = ba.load_data(file_path)\n",
    "df_raw.head()"
   ]
  },
  {
   "cell_type": "code",
   "execution_count": null,
   "id": "81c6523e-9f78-489b-85e0-97de1e3e985e",
   "metadata": {},
   "outputs": [],
   "source": [
    "df_cleaned = ba.clean_data(df_raw)\n"
   ]
  },
  {
   "cell_type": "code",
   "execution_count": null,
   "id": "1ae36e7a-733b-41e5-926f-362b75495b70",
   "metadata": {},
   "outputs": [],
   "source": [
    "\n",
    "# Exploratory Data Analysis\n",
    "\n",
    "ba.plot_price_series(df_cleaned)"
   ]
  },
  {
   "cell_type": "code",
   "execution_count": null,
   "id": "c2908953-23ae-4024-830e-52ff0d2127aa",
   "metadata": {},
   "outputs": [],
   "source": [
    "ba.check_stationarity(df_cleaned)"
   ]
  },
  {
   "cell_type": "code",
   "execution_count": null,
   "id": "fb11d563-8aa3-4c32-aea6-532b68612832",
   "metadata": {},
   "outputs": [],
   "source": [
    "\n",
    "# Fit ARIMA Model\n",
    "\n",
    "arima_order = (1,1,1)\n",
    "arima_results = ba.fit_arima_model(df_cleaned, order=arima_order)\n"
   ]
  },
  {
   "cell_type": "code",
   "execution_count": null,
   "id": "74df6b83-1861-4ebe-b860-9de65c7f5c0f",
   "metadata": {},
   "outputs": [],
   "source": []
  }
 ],
 "metadata": {
  "kernelspec": {
   "display_name": "Python (venv)",
   "language": "python",
   "name": "venv"
  },
  "language_info": {
   "codemirror_mode": {
    "name": "ipython",
    "version": 3
   },
   "file_extension": ".py",
   "mimetype": "text/x-python",
   "name": "python",
   "nbconvert_exporter": "python",
   "pygments_lexer": "ipython3",
   "version": "3.12.4"
  }
 },
 "nbformat": 4,
 "nbformat_minor": 5
}
